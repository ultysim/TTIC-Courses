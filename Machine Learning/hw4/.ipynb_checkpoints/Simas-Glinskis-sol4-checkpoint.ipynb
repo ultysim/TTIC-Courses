{
 "cells": [
  {
   "cell_type": "code",
   "execution_count": 854,
   "metadata": {
    "collapsed": false
   },
   "outputs": [],
   "source": [
    "from __future__ import division\n",
    "from ps4_utils import load_data,load_experiment\n",
    "from ps4_utils import AbstractGenerativeModel\n",
    "from ps4_utils import save_submission\n",
    "from scipy.misc import logsumexp\n",
    "import numpy as np\n",
    "data_fn = \"datasets-ps4.h5\"\n",
    "MAX_OUTER_ITER = 20"
   ]
  },
  {
   "cell_type": "code",
   "execution_count": 877,
   "metadata": {
    "collapsed": false
   },
   "outputs": [],
   "source": [
    "class MixtureModel(AbstractGenerativeModel):\n",
    "    def __init__(self, CLASSES, NUM_FEATURES, NUM_MIXTURE_COMPONENTS, MAX_ITER=50, EPS=10**(-7)):\n",
    "        AbstractGenerativeModel.__init__(self, CLASSES, NUM_FEATURES)\n",
    "        self.num_mixture_components = NUM_MIXTURE_COMPONENTS # list of num_mixture_components (length num_classes)\n",
    "        self.max_iter = MAX_ITER # max iterations of EM\n",
    "        self.epsilon = EPS # help with stability, to be used according to hint given at end of pset4.pdf\n",
    "        self.params = { # lists of length CLASSES\n",
    "            'pi': [np.repeat(1/k,k) for k in self.num_mixture_components], # with pi_c for each class\n",
    "            'theta': [np.zeros((self.num_features,k)) for k in self.num_mixture_components], # with theta_c for each class\n",
    "        }\n",
    "    def pack_params(self, X, class_idx):\n",
    "        pi,theta = self.fit(X[class_idx],class_idx) # fit parameters\n",
    "        self.params['pi'][class_idx] = pi # update member variable pi\n",
    "        self.params['theta'][class_idx] = theta #update member variable theta\n",
    "        \n",
    "    #make classification based on which mixture model gives higher probability to generating point xi\n",
    "    def classify(self, X):\n",
    "        P = list()\n",
    "        pi = self.params['pi']\n",
    "        theta = self.params['theta']\n",
    "        for c in range(self.num_classes):\n",
    "            _,Pc = self.findP(X, pi[c], theta[c])\n",
    "            P.append(Pc)\n",
    "        return np.vstack(P).T.argmax(-1) # np.array of class predictions for each data point in X\n",
    "\n",
    "    # --- E-step\n",
    "    def updateLatentPosterior(self, X, pi, theta, num_mixture_components): # update the latent posterior\n",
    "        # YOUR CODE HERE\n",
    "        # --- gamma: responsibilities (probabilities), np.array (matrix)\n",
    "        # ---        shape: number of data points in X (where X consists of datapoints from class c) by NUM_MIXTURE_COMPONENTS[c]\n",
    "        # note: can use output of findP here (with care taken to return gamma containing proper probabilities)\n",
    "        prob, norm = self.findP(X,pi,theta)\n",
    "        # -- fix the shape here using np.repeat so the prob and norm have matching shape\n",
    "        norm = np.repeat(norm,num_mixture_components).reshape(np.size(X,0),num_mixture_components)\n",
    "        gamma = np.exp(prob - norm)\n",
    "        return gamma\n",
    "    # --- M-step (1)\n",
    "    @staticmethod\n",
    "    def updatePi(gamma): #update the pi component using the posteriors (gammas)\n",
    "        # YOUR CODE HERE\n",
    "        # --- pi_c: class specific pi, np.array (vector)\n",
    "        # ---        shape: NUM_MIXTURE_COMPONENTS[c]\n",
    "        N = float(gamma.shape[0])\n",
    "        pi_c = 1.0/N * np.sum(gamma,0)\n",
    "        return pi_c\n",
    "    # -- M-step (2)\n",
    "    @staticmethod\n",
    "    def updateTheta(X, gamma): #update theta component using posteriors (gammas)\n",
    "        # YOUR CODE HERE\n",
    "        # --- theta_c: class specific theta, np.array matrix\n",
    "        # ---        shape: NUM_FEATURES by NUM_MIXTURE_COMPONENTS[c]\n",
    "        norm = np.sum(gamma,0)\n",
    "        theta_c = np.divide(np.dot(X.transpose(),gamma),norm)\n",
    "        return theta_c \n",
    "    \n",
    "    @staticmethod\n",
    "    def findP(X, pi, theta):\n",
    "        # YOUR CODE HERE\n",
    "        # NOTE: you can also use t as a probability, just change \"logsumexp(t,axis=1)\" to \"logsumexp(np.log(t),axis=1)\"\n",
    "        # --- t: logprobabilities of x given each component of mixture\n",
    "        # ---        shape: number of data points in X (where X consists of datapoints from class c) by NUM_MIXTURE_COMPONENTS[c] \n",
    "        # --- logsumexp(t,axis=1): (for convenience) once exponentiated, gives normalization factor over all mixture components\n",
    "        # ---        shape: number of data points in X (where X consists of datapoints from class c)\n",
    "        t = np.log(pi)+(np.dot(X,np.log(theta))+np.dot((np.ones(X.shape)-X),np.log(np.ones(theta.shape)-theta)))\n",
    "        return t,logsumexp(t,axis=1)\n",
    "        \n",
    "    # --- execute EM procedure\n",
    "    def fit(self, X, class_idx):\n",
    "        max_iter = self.max_iter\n",
    "        eps = self.epsilon\n",
    "        N = X.shape[0]\n",
    "        pi = self.params['pi'][class_idx]\n",
    "        theta = self.params['theta'][class_idx]\n",
    "        num_mixture_components = self.num_mixture_components[class_idx]\n",
    "        # INITIALIZE theta\n",
    "        for i in range(len(theta[0])):\n",
    "            a = np.random.rand(int(len(X)*0.1))*len(X)\n",
    "            a = [int(j) for j in a]\n",
    "            theta[:,i]=np.mean(X[a])\n",
    "        for i in range(max_iter):\n",
    "            # YOUR CODE HERE, E-step: gamma = self.updateLatentPosterior\n",
    "            # YOUR CODE HERE, M-step(1): pi = self.updatePi \n",
    "            # YOUR CODE HERE, M-step(2): theta = self.updateTheta\n",
    "            theta[theta < eps] = eps\n",
    "            theta[theta > 1.0-eps] = 1.0-eps\n",
    "            gamma = self.updateLatentPosterior(X,pi,theta,num_mixture_components)\n",
    "            pi = self.updatePi(gamma)\n",
    "            theta = self.updateTheta(X,gamma)\n",
    "        theta[theta < eps] = eps\n",
    "        theta[theta > 1.0-eps] = 1.0-eps\n",
    "        return pi,theta #pi and theta, given class_idx"
   ]
  },
  {
   "cell_type": "code",
   "execution_count": 875,
   "metadata": {
    "collapsed": false
   },
   "outputs": [],
   "source": [
    "class NaiveBayesModel(AbstractGenerativeModel):\n",
    "    def __init__(self, CLASSES, NUM_FEATURES, EPS=10**(-12)):\n",
    "        AbstractGenerativeModel.__init__(self, CLASSES, NUM_FEATURES)\n",
    "        self.epsilon = EPS # help with stability\n",
    "        self.params = {\n",
    "            'p': [np.zeros((NUM_FEATURES))] * self.num_classes # estimated log-probabilities of features for each class\n",
    "        }\n",
    "    def pack_params(self, X, class_idx):\n",
    "        p = self.fit(X[class_idx])\n",
    "        self.params['p'][class_idx] = p\n",
    "    def classify(self, X): # naive bayes classifier\n",
    "        # YOUR CODE HERE\n",
    "        # --- predictions: predictions for data points in X (where X consists of datapoints from class c), np.array (vector)\n",
    "        # ---        shape: number of data points\n",
    "        p = self.params['p']\n",
    "        hold = list()\n",
    "        for i in range(len(p)):\n",
    "            theta = p[i]\n",
    "            hold.append(np.dot(X,np.log(theta))+np.dot((np.ones(X.shape)-X),np.log(np.ones(theta.shape)-theta)))\n",
    "        hold = np.array(hold)\n",
    "        predictions = np.array([list(i).index(max(i)) for i in hold.transpose()])\n",
    "        return predictions\n",
    "    def fit(self, X):\n",
    "        # YOUR CODE HERE\n",
    "        # --- estimated_p: estimated p's of features for input X (where X consists of datapoints from class c), np.array (vector)\n",
    "        # ---        shape: NUM_FEATURES\n",
    "        eps = self.epsilon\n",
    "        theta = np.mean(X,0)\n",
    "        theta[theta < eps] = eps\n",
    "        theta[theta > 1.0-eps] = 1.0-eps\n",
    "        estimated_p = theta\n",
    "        return estimated_p"
   ]
  },
  {
   "cell_type": "code",
   "execution_count": 876,
   "metadata": {
    "collapsed": false
   },
   "outputs": [
    {
     "name": "stdout",
     "output_type": "stream",
     "text": [
      "SENTIMENT ANALYSIS -- NAIVE BAYES MODEL:\n",
      "ACCURACY ON VALIDATION: 0.72\n",
      "SENTIMENT ANALYSIS -- MIXTURE MODEL:\n",
      "COMPONENTS: 11 14\n",
      "ACCURACY ON VALIDATION: 0.72\n",
      "COMPONENTS: 4 5\n",
      "ACCURACY ON VALIDATION: 0.724\n",
      "COMPONENTS: 9 13\n",
      "ACCURACY ON VALIDATION: 0.702\n",
      "COMPONENTS: 6 13\n",
      "ACCURACY ON VALIDATION: 0.724\n",
      "COMPONENTS: 11 10\n",
      "ACCURACY ON VALIDATION: 0.716\n",
      "COMPONENTS: 4 5\n",
      "ACCURACY ON VALIDATION: 0.714\n",
      "COMPONENTS: 4 6\n",
      "ACCURACY ON VALIDATION: 0.732\n",
      "COMPONENTS: 14 9\n",
      "ACCURACY ON VALIDATION: 0.724\n",
      "COMPONENTS: 4 6\n",
      "ACCURACY ON VALIDATION: 0.724\n",
      "COMPONENTS: 7 6\n",
      "ACCURACY ON VALIDATION: 0.714\n",
      "COMPONENTS: 2 3\n",
      "ACCURACY ON VALIDATION: 0.708\n",
      "COMPONENTS: 5 11\n",
      "ACCURACY ON VALIDATION: 0.718\n",
      "COMPONENTS: 8 14\n",
      "ACCURACY ON VALIDATION: 0.712\n",
      "COMPONENTS: 10 11\n",
      "ACCURACY ON VALIDATION: 0.734\n",
      "COMPONENTS: 11 3\n",
      "ACCURACY ON VALIDATION: 0.704\n",
      "COMPONENTS: 5 4\n",
      "ACCURACY ON VALIDATION: 0.734\n",
      "COMPONENTS: 9 4\n",
      "ACCURACY ON VALIDATION: 0.694\n",
      "COMPONENTS: 8 6\n",
      "ACCURACY ON VALIDATION: 0.712\n",
      "COMPONENTS: 9 8\n",
      "ACCURACY ON VALIDATION: 0.692\n",
      "COMPONENTS: 6 9\n",
      "ACCURACY ON VALIDATION: 0.726\n",
      "('Saved:', 'mm-sentiment_analysis-submission.csv')\n"
     ]
    }
   ],
   "source": [
    "experiment_name = \"sentiment_analysis\"\n",
    "# --- SENTIMENT ANALYSIS setup\n",
    "Xtrain,Xval,num_classes,num_features = load_experiment(data_fn, experiment_name)\n",
    "\n",
    "# -- build naive bayes model for sentiment analysis\n",
    "print(\"SENTIMENT ANALYSIS -- NAIVE BAYES MODEL:\")\n",
    "nbm = NaiveBayesModel(num_classes, num_features)\n",
    "nbm.train(Xtrain)\n",
    "print(\"ACCURACY ON VALIDATION: \" + str(nbm.val(Xval)))\n",
    "\n",
    "bestnmc = None\n",
    "acc = 0\n",
    "\n",
    "# -- build mixture model for sentiment analysis\n",
    "print(\"SENTIMENT ANALYSIS -- MIXTURE MODEL:\")\n",
    "for i in range(MAX_OUTER_ITER):\n",
    "    num_mixture_components =  np.random.randint(2,15,num_classes)\n",
    "    print(\"COMPONENTS: \" + \" \".join(str(i) for i in num_mixture_components))\n",
    "    mm = MixtureModel(num_classes, num_features, num_mixture_components)\n",
    "    mm.train(Xtrain)\n",
    "    print(\"ACCURACY ON VALIDATION: \" + str(mm.val(Xval)))\n",
    "    if mm.val(Xval)>acc:\n",
    "        acc = mm.val(Xval)\n",
    "        bestnmc = num_mixture_components\n",
    "        \n",
    "mm = MixtureModel(num_classes, num_features, np.array(bestnmc))\n",
    "mm.train(Xtrain)\n",
    "# submit to kaggle\n",
    "Xkaggle = load_data(data_fn, experiment_name, \"kaggle\")\n",
    "save_submission(\"mm-{}-submission.csv\".format(experiment_name), mm.classify(Xkaggle))"
   ]
  },
  {
   "cell_type": "code",
   "execution_count": 863,
   "metadata": {
    "collapsed": false
   },
   "outputs": [
    {
     "name": "stdout",
     "output_type": "stream",
     "text": [
      "MNIST DIGIT CLASSIFICATION -- NAIVE BAYES MODEL:\n",
      "ACCURACY ON VALIDATION: 0.733\n",
      "MNIST DIGIT CLASSIFICATION -- MIXTURE MODEL:\n",
      "COMPONENTS: 2 8 13 5 11 3 12 10 11 13\n",
      "ACCURACY ON VALIDATION: 0.7805\n",
      "COMPONENTS: 7 12 9 12 2 14 2 2 14 10\n",
      "ACCURACY ON VALIDATION: 0.7635\n",
      "COMPONENTS: 4 11 7 14 6 13 11 5 8 12\n",
      "ACCURACY ON VALIDATION: 0.772\n",
      "COMPONENTS: 12 7 5 5 14 8 2 3 3 7\n",
      "ACCURACY ON VALIDATION: 0.7735\n",
      "COMPONENTS: 6 12 4 5 14 13 2 7 12 9\n",
      "ACCURACY ON VALIDATION: 0.768\n",
      "COMPONENTS: 8 11 10 9 3 7 13 4 10 6\n",
      "ACCURACY ON VALIDATION: 0.7985\n",
      "COMPONENTS: 5 3 3 2 7 14 3 10 10 8\n",
      "ACCURACY ON VALIDATION: 0.7775\n",
      "COMPONENTS: 4 8 13 4 14 2 6 6 11 9\n",
      "ACCURACY ON VALIDATION: 0.7795\n",
      "COMPONENTS: 6 7 11 14 4 7 14 3 8 5\n",
      "ACCURACY ON VALIDATION: 0.7805\n",
      "COMPONENTS: 14 14 13 12 11 11 4 10 8 11\n",
      "ACCURACY ON VALIDATION: 0.769\n",
      "COMPONENTS: 4 7 12 6 7 8 9 3 9 3\n",
      "ACCURACY ON VALIDATION: 0.7785\n",
      "COMPONENTS: 2 11 6 11 9 2 14 14 8 3\n",
      "ACCURACY ON VALIDATION: 0.765\n",
      "COMPONENTS: 9 5 4 8 9 10 5 8 13 6\n",
      "ACCURACY ON VALIDATION: 0.7795\n",
      "COMPONENTS: 6 8 10 11 10 12 10 11 4 13\n",
      "ACCURACY ON VALIDATION: 0.7765\n",
      "COMPONENTS: 12 3 2 9 6 11 12 2 10 7\n",
      "ACCURACY ON VALIDATION: 0.77\n",
      "COMPONENTS: 3 9 4 12 12 3 8 13 12 6\n",
      "ACCURACY ON VALIDATION: 0.776\n",
      "COMPONENTS: 11 12 4 4 6 10 14 10 14 2\n",
      "ACCURACY ON VALIDATION: 0.7655\n",
      "COMPONENTS: 7 7 8 3 6 6 12 5 10 6\n",
      "ACCURACY ON VALIDATION: 0.785\n",
      "COMPONENTS: 8 3 5 10 2 8 14 10 14 12\n",
      "ACCURACY ON VALIDATION: 0.7765\n",
      "COMPONENTS: 11 3 7 6 12 7 13 3 5 6\n",
      "ACCURACY ON VALIDATION: 0.787\n",
      "('Saved:', 'mm-mnist-submission.csv')\n"
     ]
    }
   ],
   "source": [
    "experiment_name = \"mnist\"\n",
    "# --- MNIST DIGIT CLASSIFICATION setup\n",
    "Xtrain,Xval,num_classes,num_features = load_experiment(data_fn, experiment_name)\n",
    "\n",
    "# -- build naive bayes model for mnist digit classification\n",
    "print(\"MNIST DIGIT CLASSIFICATION -- NAIVE BAYES MODEL:\")\n",
    "nbm = NaiveBayesModel(num_classes, num_features)\n",
    "nbm.train(Xtrain)\n",
    "print(\"ACCURACY ON VALIDATION: \" + str(nbm.val(Xval)))\n",
    "bestnmc = None\n",
    "acc = 0\n",
    "# -- build mixture model for mnist digit classification\n",
    "print(\"MNIST DIGIT CLASSIFICATION -- MIXTURE MODEL:\")\n",
    "for i in range(MAX_OUTER_ITER):\n",
    "    num_mixture_components =  np.random.randint(2,15,num_classes)\n",
    "    print(\"COMPONENTS: \" + \" \".join(str(i) for i in num_mixture_components))\n",
    "    mm = MixtureModel(num_classes, num_features, num_mixture_components)\n",
    "    mm.train(Xtrain)\n",
    "    print(\"ACCURACY ON VALIDATION: \" + str(mm.val(Xval)))\n",
    "    if mm.val(Xval)>acc:\n",
    "        acc = mm.val(Xval)\n",
    "        bestnmc = num_mixture_components\n",
    "        \n",
    "mm = MixtureModel(num_classes, num_features, np.array(bestnmc))\n",
    "mm.train(Xtrain)\n",
    "# submit to kaggle\n",
    "Xkaggle = load_data(data_fn, experiment_name, \"kaggle\")\n",
    "save_submission(\"mm-{}-submission.csv\".format(experiment_name), mm.classify(Xkaggle))"
   ]
  },
  {
   "cell_type": "code",
   "execution_count": 865,
   "metadata": {
    "collapsed": false
   },
   "outputs": [
    {
     "name": "stdout",
     "output_type": "stream",
     "text": [
      "SENTIMENT ANALYSIS -- NAIVE BAYES MODEL:\n"
     ]
    },
    {
     "data": {
      "text/plain": [
       "array([[  84.,   81.],\n",
       "       [  59.,  276.]])"
      ]
     },
     "execution_count": 865,
     "metadata": {},
     "output_type": "execute_result"
    }
   ],
   "source": [
    "'''\n",
    "Confusion Matrix\n",
    "'''\n",
    "experiment_name = \"sentiment_analysis\"\n",
    "# --- SENTIMENT ANALYSIS setup\n",
    "Xtrain,Xval,num_classes,num_features = load_experiment(data_fn, experiment_name)\n",
    "\n",
    "# -- build naive bayes model for sentiment analysis\n",
    "print(\"SENTIMENT ANALYSIS -- NAIVE BAYES MODEL:\")\n",
    "nbm = NaiveBayesModel(num_classes, num_features)\n",
    "nbm.train(Xtrain)\n",
    "\n",
    "cmatrix = np.zeros(shape=(len(Xtrain),len(Xtrain)))\n",
    "for i in range(len(Xval)):\n",
    "    hold = nbm.classify(Xval[i])\n",
    "    for j in hold:\n",
    "        cmatrix[i,j] +=1\n",
    "cmatrix"
   ]
  },
  {
   "cell_type": "code",
   "execution_count": 867,
   "metadata": {
    "collapsed": false
   },
   "outputs": [
    {
     "name": "stdout",
     "output_type": "stream",
     "text": [
      "MNIST DIGIT CLASSIFICATION -- NAIVE BAYES MODEL:\n"
     ]
    },
    {
     "data": {
      "text/plain": [
       "array([[ 151.,    0.,    6.,    5.,    1.,    9.,   10.,    0.,    3.,\n",
       "           2.],\n",
       "       [   0.,  205.,    5.,    1.,    2.,    4.,    1.,    2.,    2.,\n",
       "           1.],\n",
       "       [   4.,   13.,  147.,   10.,    6.,    4.,    9.,    4.,    9.,\n",
       "           4.],\n",
       "       [   3.,    7.,    9.,  133.,    0.,   11.,    2.,    4.,   10.,\n",
       "           4.],\n",
       "       [   2.,    4.,    4.,    0.,  146.,    4.,    2.,    7.,    1.,\n",
       "          23.],\n",
       "       [   7.,   12.,    4.,   26.,    7.,   98.,    5.,    6.,    6.,\n",
       "           1.],\n",
       "       [   2.,   10.,    6.,    2.,   10.,    9.,  175.,    1.,    1.,\n",
       "           1.],\n",
       "       [   1.,   13.,    2.,    3.,    8.,    1.,    0.,  183.,    2.,\n",
       "          20.],\n",
       "       [   2.,   18.,   13.,   21.,    5.,    9.,    3.,    0.,  120.,\n",
       "           5.],\n",
       "       [   2.,    5.,    3.,   10.,   23.,    4.,    1.,   25.,    5.,\n",
       "         108.]])"
      ]
     },
     "execution_count": 867,
     "metadata": {},
     "output_type": "execute_result"
    }
   ],
   "source": [
    "'''\n",
    "Confusion Matrix\n",
    "'''\n",
    "experiment_name = \"mnist\"\n",
    "# --- MNIST DIGIT CLASSIFICATION setup\n",
    "Xtrain,Xval,num_classes,num_features = load_experiment(data_fn, experiment_name)\n",
    "\n",
    "# -- build naive bayes model for mnist digit classification\n",
    "print(\"MNIST DIGIT CLASSIFICATION -- NAIVE BAYES MODEL:\")\n",
    "nbm = NaiveBayesModel(num_classes, num_features)\n",
    "nbm.train(Xtrain)\n",
    "\n",
    "cmatrix = np.zeros(shape=(len(Xtrain),len(Xtrain)))\n",
    "for i in range(len(Xval)):\n",
    "    hold = nbm.classify(Xval[i])\n",
    "    for j in hold:\n",
    "        cmatrix[i,j] +=1\n",
    "cmatrix"
   ]
  },
  {
   "cell_type": "markdown",
   "metadata": {},
   "source": [
    "The accuracy for the Consumer Reviews was on par with the MM, however the NB model had a hard time classifying the 0 class. For MNIST the NB model underperformed the MM, but was able to classify each number without much confusion, save 5 where NB drastically underperformed."
   ]
  },
  {
   "cell_type": "code",
   "execution_count": null,
   "metadata": {
    "collapsed": true
   },
   "outputs": [],
   "source": []
  }
 ],
 "metadata": {
  "kernelspec": {
   "display_name": "Python 2",
   "language": "python",
   "name": "python2"
  },
  "language_info": {
   "codemirror_mode": {
    "name": "ipython",
    "version": 2
   },
   "file_extension": ".py",
   "mimetype": "text/x-python",
   "name": "python",
   "nbconvert_exporter": "python",
   "pygments_lexer": "ipython2",
   "version": "2.7.10"
  }
 },
 "nbformat": 4,
 "nbformat_minor": 0
}
