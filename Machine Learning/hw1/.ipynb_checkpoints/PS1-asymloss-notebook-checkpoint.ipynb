{
 "cells": [
  {
   "cell_type": "markdown",
   "metadata": {},
   "source": [
    "# Problem set 1, Asymmetric loss regression"
   ]
  },
  {
   "cell_type": "markdown",
   "metadata": {},
   "source": [
    "First, Let's load the data and plot the training data out."
   ]
  },
  {
   "cell_type": "code",
   "execution_count": 3,
   "metadata": {
    "collapsed": false,
    "scrolled": true
   },
   "outputs": [
    {
     "data": {
      "text/plain": [
       "[<matplotlib.lines.Line2D at 0xb54a1d0>]"
      ]
     },
     "execution_count": 3,
     "metadata": {},
     "output_type": "execute_result"
    },
    {
     "data": {
      "image/png": "[encoded data removed]",
      "text/plain": [
       "<matplotlib.figure.Figure at 0xb536cc0>"
      ]
     },
     "metadata": {},
     "output_type": "display_data"
    }
   ],
   "source": [
    "from __future__ import absolute_import\n",
    "from __future__ import division\n",
    "from __future__ import print_function\n",
    "\n",
    "%matplotlib inline\n",
    "from utils import *  # this loads definitions of functions etc. in utils.py provided with the assignment\n",
    "import pylab\n",
    "import numpy as np\n",
    "\n",
    "# Load data\n",
    "X_train, y_train = loadData('train')\n",
    "X_val, y_val = loadData('val')\n",
    "\n",
    "pylab.plot(X_train, y_train, '.')\n",
    "pylab.plot(X_val, y_val, 'r.')\n"
   ]
  },
  {
   "cell_type": "markdown",
   "metadata": {},
   "source": [
    "First, we will solve the linear regression (under the \"normal\" symmetric squared loss) using the closed form solution. Let's define a couple of functions we will need."
   ]
  },
  {
   "cell_type": "code",
   "execution_count": 145,
   "metadata": {
    "collapsed": false
   },
   "outputs": [],
   "source": [
    "def symmLoss(X, w ,y):\n",
    "    \"\"\"\n",
    "    Get the symmetric squared loss given data X, weight w and ground truth y\n",
    "\n",
    "    Parameters\n",
    "    ----------\n",
    "    X : 2D array\n",
    "        N x d+1 data matrix (row per example)\n",
    "    w : 1D array\n",
    "        d+1 length vector\n",
    "    y : 1D array\n",
    "        Observed function values\n",
    "\n",
    "    Returns\n",
    "    -------\n",
    "    loss : a scalar\n",
    "        The loss calculated by the symmetric loss formula\n",
    "    \"\"\"\n",
    "    N = X.shape[0]\n",
    "    return np.sum(1.0/N*(y-np.dot(X,w))**2)"
   ]
  },
  {
   "cell_type": "code",
   "execution_count": 14,
   "metadata": {
    "collapsed": true,
    "scrolled": true
   },
   "outputs": [],
   "source": [
    "def lsqClosedForm(X, y):\n",
    "    \"\"\"\n",
    "    Use closed form solution for least squares minimization\n",
    "\n",
    "    Parameters\n",
    "    ----------\n",
    "    X : 2D array\n",
    "        N x d+1 data matrix (row per example)\n",
    "    y : 1D array\n",
    "        Observed function values\n",
    "\n",
    "    Returns\n",
    "    -------\n",
    "    w : 1D array\n",
    "        d+1 length vector\n",
    "    \"\"\"\n",
    "    return np.dot(np.linalg.pinv(X), y)"
   ]
  },
  {
   "cell_type": "markdown",
   "metadata": {},
   "source": [
    "Test the closed form solution: generate a toy data set from a random linear function with no noise. We should be able to perfectly recover w in this case (up to numerical precision)."
   ]
  },
  {
   "cell_type": "code",
   "execution_count": 146,
   "metadata": {
    "collapsed": false
   },
   "outputs": [
    {
     "name": "stdout",
     "output_type": "stream",
     "text": [
      "true weight:  array([ 0.50204043,  0.38898598])\n",
      "function output: array([ 0.50204043,  0.38898598])\n",
      "Close enough\n"
     ]
    }
   ],
   "source": [
    "X = np.hstack((np.ones([20,1]),np.random.random((20,1))))\n",
    "w = np.random.random((2))\n",
    "y = np.dot(X,w)\n",
    "print('true weight:  '+repr(w))\n",
    "w_ = lsqClosedForm(X, y)\n",
    "print('function output: '+repr(w_))\n",
    "if (np.allclose(w,w_)):\n",
    "    print('Close enough')\n"
   ]
  },
  {
   "cell_type": "markdown",
   "metadata": {},
   "source": [
    "The function to estimate the variance of the noise and the log likelihood of the data."
   ]
  },
  {
   "cell_type": "code",
   "execution_count": 135,
   "metadata": {
    "collapsed": false
   },
   "outputs": [],
   "source": [
    "def logLikelihood(X, w, y):\n",
    "    \"\"\"\n",
    "    Get the estimated variance, and the log likelihood of the data\n",
    "\n",
    "    Parameters\n",
    "    ----------\n",
    "    X : 2D array\n",
    "        N x d+1 design matrix (row per example)\n",
    "    w : 1D array\n",
    "        d+1 length vector\n",
    "    y : 1D array\n",
    "        Observed function values\n",
    "\n",
    "    Returns\n",
    "    -------\n",
    "    simga2 : a scalar\n",
    "        The estimated variance (sigma squared)\n",
    "    loglike : a scalar\n",
    "        The log-likelihood under the Gaussian noise model N(0,sigma2)\n",
    "    \"\"\"\n",
    "    N = X.shape[0]   # number of rows in X\n",
    "    # now estimate the variance of the Gaussian noise (sigma2 stands for \\sigma^2)\n",
    "    sigma2 = np.sum((np.dot(X, w) - y)**2)/N #Could also be written as: np.mean((np.dot(X, w) - y)**2)\n",
    "    # normalized log-likelihood (mean of per-data point log-likelihood of the model given by w,sigma2)\n",
    "    loglike = - 1 / 2.0 * np.log(2*np.pi*sigma2) - np.mean((np.dot(X, w) - y)**2) / (sigma2 * 2)\n",
    "    return sigma2, loglike"
   ]
  },
  {
   "cell_type": "markdown",
   "metadata": {},
   "source": [
    "Now let's fit linear, quadratic and cubic models to the training data, and plot the fit function."
   ]
  },
  {
   "cell_type": "code",
   "execution_count": 147,
   "metadata": {
    "collapsed": false
   },
   "outputs": [
    {
     "name": "stdout",
     "output_type": "stream",
     "text": [
      "degree 1:\n",
      "train loss 0.155770\n",
      "val loss 0.108249\n",
      "sigma^2: 0.155770 \n",
      "log-likelihood -0.489250\n",
      "\n",
      "degree 2:\n",
      "train loss 0.032250\n",
      "val loss 0.024095\n",
      "sigma^2: 0.032250 \n",
      "log-likelihood 0.298185\n",
      "\n",
      "degree 3:\n",
      "train loss 0.031714\n",
      "val loss 0.026440\n",
      "sigma^2: 0.031714 \n",
      "log-likelihood 0.306554\n",
      "\n"
     ]
    },
    {
     "data": {
      "image/png": "[encoded data removed]",
      "text/plain": [
       "<matplotlib.figure.Figure at 0xeff5b38>"
      ]
     },
     "metadata": {},
     "output_type": "display_data"
    }
   ],
   "source": [
    "min_loss = np.Inf\n",
    "pylab.plot(X_val, y_val, 'k.')\n",
    "\n",
    "# Try degree 1 to 3\n",
    "for deg in [1,2,3]:\n",
    "    # Expand data first; you can check how this function works in utils.py\n",
    "    X, C = degexpand(X_train, deg)\n",
    "    \n",
    "    # Get the result by applying normal equation\n",
    "    w = lsqClosedForm(X, y_train)\n",
    "    \n",
    "    # compute loss on training\n",
    "    loss = symmLoss(X, w, y_train)\n",
    "    \n",
    "    # compute loss on val; note -- use the same scaling matrix C as for training\n",
    "    val_loss = symmLoss(degexpand(X_val, deg, C)[0], w, y_val)\n",
    "    print('degree %d:' %(deg))\n",
    "    print('train loss %.6f' %(loss))\n",
    "    print('val loss %.6f' %(val_loss))\n",
    "    print('sigma^2: %.6f \\nlog-likelihood %.6f\\n' %logLikelihood(X, w, y_train))\n",
    "    \n",
    "    if val_loss < min_loss:\n",
    "        min_loss = val_loss\n",
    "        # record in best_param the model weights, degree, and the scaling matrix of the best model so far\n",
    "        best_param = (w, deg, C)\n",
    "    \n",
    "    # Plot the function\n",
    "    color = {1:'b', 2:'g', 3:'r'}[deg]\n",
    "    pylab.plot(np.linspace(min(X_train)-.1,max(X_train)+.1), np.dot(degexpand(np.linspace(min(X_train)-.1,max(X_train)+.1).reshape((50, 1)), deg, C)[0], w), color)\n"
   ]
  },
  {
   "cell_type": "code",
   "execution_count": 148,
   "metadata": {
    "collapsed": false
   },
   "outputs": [
    {
     "name": "stdout",
     "output_type": "stream",
     "text": [
      "Best degree:2\n",
      "Test loss: 0.029397\n"
     ]
    }
   ],
   "source": [
    "# Announce result on test data\n",
    "X_test, y_test = loadData('test')\n",
    "\n",
    "print(\"Best degree:\"+repr(best_param[1]))\n",
    "w = best_param[0]\n",
    "deg = best_param[1]\n",
    "C = best_param[2]\n",
    "test_loss = symmLoss(degexpand(X_test, deg, C)[0], w, y_test)\n",
    "print('Test loss: %f' %test_loss)\n"
   ]
  },
  {
   "cell_type": "markdown",
   "metadata": {},
   "source": [
    "Now we want to repeat the experiment above but under the asymmetric loss function. Since there is no closed form solution, we will need to rely on gradient descent. First we need to implement the loss function and the gradient function."
   ]
  },
  {
   "cell_type": "code",
   "execution_count": 149,
   "metadata": {
    "collapsed": false
   },
   "outputs": [],
   "source": [
    "def asymmLoss(X, w, y,alpha):\n",
    "    \"\"\"\n",
    "    Get the asymmetric loss given data X, weight w and ground truth y\n",
    "\n",
    "    Parameters\n",
    "    ----------\n",
    "    X : 2D array\n",
    "        N x d+1 design matrix (row per example)\n",
    "    w : 1D array\n",
    "        d+1 length vector\n",
    "    y : 1D array\n",
    "        Observed function values\n",
    "    alpha : scalar\n",
    "        weight put on positive error, i.e., yhat > y\n",
    "\n",
    "    Returns\n",
    "    -------\n",
    "    loss : a scalar\n",
    "        The loss calculated by equation in problem set 1\n",
    "    \"\"\"\n",
    "    \n",
    "    # it may be more convenient to define the loss as a per-data point weighted loss,\n",
    "    # with weights determined by the sign of the error and collected into a diagonal matrix\n",
    "    \n",
    "    N = X.shape[0]\n",
    "    yhat = np.dot(X, w)\n",
    "    weights=np.zeros([N,N])\n",
    "    for i in range(0,N):\n",
    "        if yhat[i] > y[i]:\n",
    "            weights[i][i] = alpha\n",
    "        else:\n",
    "            weights[i][i] = 1\n",
    "    loss = np.sum(np.dot(1.0/N*(y-yhat)**2,weights))\n",
    "    return loss\n",
    "    "
   ]
  },
  {
   "cell_type": "code",
   "execution_count": 150,
   "metadata": {
    "collapsed": false
   },
   "outputs": [],
   "source": [
    "def asymmGrad(X, w, y,alpha):\n",
    "    \"\"\"\n",
    "    Get the gradient of w\n",
    "\n",
    "    Parameters\n",
    "    ----------\n",
    "    X : 2D array\n",
    "        N x d+1 design matrix (row per example)\n",
    "    w : 1D array\n",
    "        d+1 length vector\n",
    "    y : 1D array\n",
    "        Observed function values\n",
    "    alpha : scalar\n",
    "        weight put on positive error, i.e., yhat > y\n",
    "\n",
    "    Returns\n",
    "    -------\n",
    "    grad : 1D array\n",
    "        d+1 length vector\n",
    "    \"\"\"\n",
    "    N = X.shape[0]\n",
    "    yhat = np.dot(X,w)\n",
    "    # use the weights here as well, defined by alpha\n",
    "    weights=np.zeros([N,N])\n",
    "    for i in range(0,N):\n",
    "        if yhat[i] > y[i]:\n",
    "            weights[i][i] = alpha\n",
    "        else:\n",
    "            weights[i][i] = 1\n",
    "    grad = np.dot(np.dot(2/N*(yhat-y),weights),X)\n",
    "    return grad"
   ]
  },
  {
   "cell_type": "markdown",
   "metadata": {},
   "source": [
    "Test the loss and gradient function. You can manually verify that for the given values of X (2 data points), y and w, with alpha=10, you should get these numbers for the objective (asymmetric loss) value and for the gradient. Then, run the code to make sure your implementation of the gradient is correct."
   ]
  },
  {
   "cell_type": "code",
   "execution_count": 151,
   "metadata": {
    "collapsed": false
   },
   "outputs": [
    {
     "name": "stdout",
     "output_type": "stream",
     "text": [
      "expected output\n",
      "5.5\n",
      "[ 9 -22]\n",
      "function output:\n",
      "5.5\n",
      "[  9. -22.]\n"
     ]
    }
   ],
   "source": [
    "loss, grad = asymmLoss(np.array([[1,2], [1, -2]]), np.array([1,1]), np.array([4, -2]),10), \\\n",
    "            asymmGrad(np.array([[1,2], [1, -2]]), np.array([1,1]), np.array([4, -2]),10)\n",
    "print(\"expected output\")\n",
    "print(\"5.5\")\n",
    "print(\"[ 9 -22]\")\n",
    "print(\"function output:\")\n",
    "print(loss)\n",
    "print(grad)"
   ]
  },
  {
   "cell_type": "markdown",
   "metadata": {},
   "source": [
    "Since we have had the functions to calculate loss and gradient, we can implement the gradient descent algorithm."
   ]
  },
  {
   "cell_type": "code",
   "execution_count": 152,
   "metadata": {
    "collapsed": false
   },
   "outputs": [],
   "source": [
    "def gradDescent(X, y,alpha,tol=1e-4,maxIt=10000):\n",
    "    \"\"\"\n",
    "    Use gradient descent to min(loss(X, w, y))\n",
    "\n",
    "    Parameters\n",
    "    ----------\n",
    "    X : 2D array\n",
    "        N x d+1 design matrix (row per example)\n",
    "    y : 1D array\n",
    "        Observed function values\n",
    "\n",
    "    Returns\n",
    "    -------\n",
    "    w : 1D array\n",
    "        d+1 length vector\n",
    "        \n",
    "    it: number of iterations until convergence\n",
    "    \"\"\"\n",
    "    # Random initialize the weight\n",
    "    w = np.random.randn(X.shape[1])\n",
    "    lr = 0.01 # learning rate (make it constant 0.01; feel free to experiment with the value)\n",
    "    it = 0 # iteration count\n",
    "    lastloss = np.Inf # loss computed at previous check point\n",
    "    checkit = 500 # interval to check convergence\n",
    "    while True:\n",
    "        loss, grad = asymmLoss(X, w, y,alpha), asymmGrad(X, w, y,alpha)\n",
    "        \n",
    "        w = w - lr*grad\n",
    "        \n",
    "        \n",
    "        it += 1 # advance iteration count\n",
    "        \n",
    "        if it % checkit == 0: # check point -- evaluate progress and decide whether to stop\n",
    "            converged = it >= maxIt or loss > lastloss-tol\n",
    "            lastloss = loss\n",
    "            print('iter %d:  loss %.4f' %(it,loss))\n",
    "            if converged:\n",
    "                break\n",
    "        \n",
    "    return w, it"
   ]
  },
  {
   "cell_type": "markdown",
   "metadata": {},
   "source": [
    "Test gradient descent using any alpha and data generated by (random) noiseless linear model; we should recover the true w fairly accurately (although possibly with less accuracy than the closed form solution for alpha=1)"
   ]
  },
  {
   "cell_type": "code",
   "execution_count": 153,
   "metadata": {
    "collapsed": false
   },
   "outputs": [
    {
     "name": "stdout",
     "output_type": "stream",
     "text": [
      "true weight:array([ 0.19080863,  0.80485187])\n",
      "iter 500:  loss 0.0389\n",
      "iter 1000:  loss 0.0016\n",
      "iter 1500:  loss 0.0001\n",
      "iter 2000:  loss 0.0000\n",
      "iter 2500:  loss 0.0000\n",
      "iter 3000:  loss 0.0000\n",
      "3000 iterations\n",
      "function output:array([ 0.19086272,  0.80469601])\n"
     ]
    }
   ],
   "source": [
    "X = np.hstack((np.ones([20,1]),np.random.random((20,1))))\n",
    "w = np.random.random((2))\n",
    "y = np.dot(X,w)\n",
    "print('true weight:'+repr(w))\n",
    "w_, it_ = gradDescent(X, y,10,1e-6,10000)\n",
    "print('%d iterations' %it_)\n",
    "print('function output:'+repr(w_))"
   ]
  },
  {
   "cell_type": "markdown",
   "metadata": {},
   "source": [
    "Now we can fit different models, and evaluate their performance on train and val"
   ]
  },
  {
   "cell_type": "code",
   "execution_count": 154,
   "metadata": {
    "collapsed": false
   },
   "outputs": [
    {
     "name": "stdout",
     "output_type": "stream",
     "text": [
      "iter 500:  loss 0.4564\n",
      "iter 1000:  loss 0.4564\n",
      "degree 1:\n",
      "train loss 0.456437\n",
      "val loss 0.374340\n",
      "sigma^2: 0.320195 \n",
      "log-likelihood -0.849526\n",
      "\n",
      "iter 500:  loss 0.0955\n",
      "iter 1000:  loss 0.0891\n",
      "iter 1500:  loss 0.0890\n",
      "degree 2:\n",
      "train loss 0.089027\n",
      "val loss 0.076925\n",
      "sigma^2: 0.062718 \n",
      "log-likelihood -0.034382\n",
      "\n",
      "iter 500:  loss 0.1307\n",
      "iter 1000:  loss 0.1091\n",
      "iter 1500:  loss 0.1001\n",
      "iter 2000:  loss 0.0953\n",
      "iter 2500:  loss 0.0924\n",
      "iter 3000:  loss 0.0906\n",
      "iter 3500:  loss 0.0896\n",
      "iter 4000:  loss 0.0891\n",
      "iter 4500:  loss 0.0888\n",
      "iter 5000:  loss 0.0886\n",
      "iter 5500:  loss 0.0885\n",
      "degree 3:\n",
      "train loss 0.088531\n",
      "val loss 0.077308\n",
      "sigma^2: 0.062148 \n",
      "log-likelihood -0.029817\n",
      "\n"
     ]
    },
    {
     "data": {
      "image/png": "[encoded data removed]",
      "text/plain": [
       "<matplotlib.figure.Figure at 0xf0a9390>"
      ]
     },
     "metadata": {},
     "output_type": "display_data"
    }
   ],
   "source": [
    "min_loss = np.Inf\n",
    "# Try degree 1 to 3\n",
    "pylab.plot(X_val, y_val, 'k.')\n",
    "for deg in [1,2,3]:\n",
    "    # Expand data first; you can check how this function works in utils.py\n",
    "    X, C = degexpand(X_train, deg)\n",
    "    y = y_train\n",
    "        \n",
    "    # Do gradient descent\n",
    "    w, _ = gradDescent(X, y,10)\n",
    "    loss = asymmLoss(X, w, y,10)\n",
    "    val_loss = asymmLoss(degexpand(X_val, deg, C)[0], w, y_val,10)\n",
    "    \n",
    "    print('degree %d:' %(deg))\n",
    "    print('train loss %.6f' %(loss))\n",
    "    print('val loss %.6f' %(val_loss))\n",
    "    print('sigma^2: %.6f \\nlog-likelihood %.6f\\n' %logLikelihood(X, w, y_train))\n",
    "    \n",
    "\n",
    "    \n",
    "    if val_loss < min_loss:\n",
    "        min_loss = val_loss\n",
    "        best_param = (w, deg, C)\n",
    "    \n",
    "    # Plot the function\n",
    "    color = {1:'b', 2:'g', 3:'r'}[deg]\n",
    "    pylab.plot(np.linspace(min(X_train)-.1,max(X_train)+.1), np.dot(degexpand(np.linspace(min(X_train)-.1,max(X_train)+.1).reshape((50, 1)), deg, C)[0], w), color + '--')\n",
    "    \n"
   ]
  },
  {
   "cell_type": "code",
   "execution_count": 155,
   "metadata": {
    "collapsed": false
   },
   "outputs": [
    {
     "name": "stdout",
     "output_type": "stream",
     "text": [
      "Best degree:2\n",
      "Test loss: 0.091702\n"
     ]
    }
   ],
   "source": [
    "# Announce result on test data\n",
    "X_test, y_test = loadData('test')\n",
    "print(\"Best degree:\"+repr(best_param[1]))\n",
    "w = best_param[0]\n",
    "deg = best_param[1]\n",
    "C = best_param[2]\n",
    "test_loss = asymmLoss(degexpand(X_test, deg, C)[0], w, y_test,10)\n",
    "print('Test loss: %f' %test_loss)\n"
   ]
  }
 ],
 "metadata": {
  "kernelspec": {
   "display_name": "Python 2",
   "language": "python",
   "name": "python2"
  },
  "language_info": {
   "codemirror_mode": {
    "name": "ipython",
    "version": 2
   },
   "file_extension": ".py",
   "mimetype": "text/x-python",
   "name": "python",
   "nbconvert_exporter": "python",
   "pygments_lexer": "ipython2",
   "version": "2.7.10"
  }
 },
 "nbformat": 4,
 "nbformat_minor": 0
}
